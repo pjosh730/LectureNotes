{
 "cells": [
  {
   "cell_type": "markdown",
   "metadata": {},
   "source": [
    "# Writing Functions\n",
    "\n",
    "This lecture discusses the mechanics of writing functions and how to encapsulate scripts as functions."
   ]
  },
  {
   "cell_type": "code",
   "execution_count": 2,
   "metadata": {},
   "outputs": [
    {
     "name": "stdout",
     "output_type": "stream",
     "text": [
      "Gradebook:\n",
      "         raw_grade did_extra_credit final_grade\n",
      "Hao            NaN              NaN         NaN\n",
      "Jennifer       NaN              NaN         NaN\n",
      "Alex           NaN              NaN         NaN\n"
     ]
    }
   ],
   "source": [
    "# Example: We're going to use Pandas dataframes to create a gradebook for this course\n",
    "\n",
    "import pandas as pd\n",
    "\n",
    "# Student Rosters:\n",
    "students = ['Hao', 'Jennifer', 'Alex']\n",
    "\n",
    "# Gradebook columns:\n",
    "columns = ['raw_grade', 'did_extra_credit', 'final_grade']\n",
    "\n",
    "# Let's create two dataframes, one for each class section\n",
    "gradebook = pd.DataFrame(index=students, columns=columns)\n",
    "\n",
    "print(\"Gradebook:\")\n",
    "print(gradebook)"
   ]
  },
  {
   "cell_type": "code",
   "execution_count": 3,
   "metadata": {},
   "outputs": [
    {
     "name": "stdout",
     "output_type": "stream",
     "text": [
      "Gradebook:\n",
      "         raw_grade did_extra_credit final_grade\n",
      "Hao             80             True         NaN\n",
      "Jennifer        98            False         NaN\n",
      "Alex            85             True         NaN\n"
     ]
    }
   ],
   "source": [
    "# Now let's add some data\n",
    "# (in real life we might load this from a CSV or other file)\n",
    "gradebook.loc['Hao']['raw_grade'] = 80\n",
    "gradebook.loc['Hao']['did_extra_credit'] = True # python supports boolean (True/False) values\n",
    "gradebook.loc['Jennifer']['raw_grade'] = 98\n",
    "gradebook.loc['Jennifer']['did_extra_credit'] = False\n",
    "gradebook.loc['Alex']['raw_grade'] = 85\n",
    "gradebook.loc['Alex']['did_extra_credit'] = True\n",
    "                            \n",
    "print(\"Gradebook:\")\n",
    "print(gradebook)"
   ]
  },
  {
   "cell_type": "markdown",
   "metadata": {},
   "source": [
    "## Copying and pasting code can introduce bugs:  \n",
    "You might forget to change a variable name.  \n",
    "\n",
    "If you later make a change (like making extra credit worth 10 points instead of 5), you need to remember to change it in multiple places.\n",
    "\n",
    "If we put the code in a function, we can avoid these problems!"
   ]
  },
  {
   "cell_type": "code",
   "execution_count": 5,
   "metadata": {},
   "outputs": [
    {
     "name": "stdout",
     "output_type": "stream",
     "text": [
      "in add_final_grades\n",
      "         raw_grade did_extra_credit final_grade\n",
      "Hao             80             True         NaN\n",
      "Jennifer        98            False          99\n",
      "Alex            85             True          90\n"
     ]
    }
   ],
   "source": [
    "# Let's put our extra credit code in a function!\n",
    "\n",
    "def add_final_grades(student, grade):\n",
    "    print(\"in add_final_grades\")\n",
    "    gradebook.loc[student, 'final_grade'] = grade\n",
    "\n",
    "add_final_grades('Jennifer', 99)\n",
    "print(gradebook)"
   ]
  },
  {
   "cell_type": "markdown",
   "metadata": {},
   "source": [
    "## Why write functions?\n",
    "1. Easily reuse code (without introducing bugs)\n",
    "2. Easy testing of components\n",
    "    <ul>\n",
    "    <li>Later in the course we will learn about writing unit tests. You will create a set of input values for a function representing potential scenarios, and will test that the function is generating the expected output.\n",
    "    </ul>\n",
    "3. Better readability\n",
    "    <ul>\n",
    "    <li>Functions encapsulate your code into components with meaningful names. You can get a high-level view of what the code is doing, then dive into the function definitions if you need more detail.         \n",
    "    </ul>"
   ]
  },
  {
   "cell_type": "markdown",
   "metadata": {},
   "source": [
    "## A function should have one task\n",
    "\n",
    "Functions should usually be pretty short.  \n",
    "\n",
    "It's good to think about functions as trying to do one single thing."
   ]
  },
  {
   "cell_type": "markdown",
   "metadata": {},
   "source": [
    "## Mechanics of Writing a Function\n",
    "- Function definition line - How python knows that this is a function\n",
    "- Function body - Code that does the computation of the function\n",
    "- Arguments - the values passed to a function\n",
    "- Formal parameters - the values accepted by the function\n",
    "    (the arguments become the formal parameters once they are inside the function)\n",
    "- Return values - value returned to the caller\n",
    "\n",
    "\n",
    "If you are familiar with other languages like Java, you may have needed to declare the types of the parameters and return value. This is not necessary in Python."
   ]
  },
  {
   "cell_type": "code",
   "execution_count": null,
   "metadata": {},
   "outputs": [],
   "source": [
    "\n",
    "def example_addition_function(num_1, num_2):\n",
    "    \"\"\"\n",
    "    This function adds two numbers.\n",
    "    \n",
    "    example_addition_function is the function name\n",
    "\n",
    "    Parameters:\n",
    "        num_1: This is the first formal parameter\n",
    "        num_2: This is the second formal parameter\n",
    "\n",
    "    Returns:\n",
    "        sum of num_1 and num_2\n",
    "    \n",
    "    \"\"\"    \n",
    "    added_value = num_1 + num_2\n",
    "    return added_value\n",
    "\n",
    "arg_1 = 5\n",
    "arg_2 = 10\n",
    "result_value = example_addition_function(arg_1, arg_2) # arg_1 and arg_2 are the arguments to the function\n",
    "    "
   ]
  },
  {
   "cell_type": "markdown",
   "metadata": {},
   "source": [
    "# Variable names and scope\n",
    "\n",
    "In Python, variables have a scope (a context in which they are valid).  \n",
    "\n",
    "Variables created in a function cannot be referenced outside of a function"
   ]
  },
  {
   "cell_type": "code",
   "execution_count": 6,
   "metadata": {
    "scrolled": true
   },
   "outputs": [
    {
     "name": "stdout",
     "output_type": "stream",
     "text": [
      "in add_final_grades Section 1\n",
      "         raw_grade did_extra_credit final_grade\n",
      "Hao             80             True         NaN\n",
      "Jennifer        98            False          99\n",
      "Alex            85             True          90\n"
     ]
    }
   ],
   "source": [
    "# Let's put our extra credit code in a function!\n",
    "section = \"Section 1\"\n",
    "def add_final_grades(student, grade):\n",
    "    print(\"in add_final_grades %s\" % section)\n",
    "    gradebook.loc[student, 'final_grade'] = grade\n",
    "\n",
    "add_final_grades('Jennifer', 99)\n",
    "print(gradebook)"
   ]
  },
  {
   "cell_type": "code",
   "execution_count": 8,
   "metadata": {},
   "outputs": [
    {
     "ename": "UnboundLocalError",
     "evalue": "local variable 'section' referenced before assignment",
     "output_type": "error",
     "traceback": [
      "\u001b[0;31m-------------------------------------------------------------------------\u001b[0m",
      "\u001b[0;31mUnboundLocalError\u001b[0m                       Traceback (most recent call last)",
      "\u001b[0;32m<ipython-input-8-2294e9c675fb>\u001b[0m in \u001b[0;36m<module>\u001b[0;34m()\u001b[0m\n\u001b[1;32m      7\u001b[0m         \u001b[0msection\u001b[0m \u001b[0;34m=\u001b[0m \u001b[0;34m\"new\"\u001b[0m\u001b[0;34m\u001b[0m\u001b[0;34m\u001b[0m\u001b[0m\n\u001b[1;32m      8\u001b[0m \u001b[0;34m\u001b[0m\u001b[0m\n\u001b[0;32m----> 9\u001b[0;31m \u001b[0madd_final_grades\u001b[0m\u001b[0;34m(\u001b[0m\u001b[0;34m'Jennifer'\u001b[0m\u001b[0;34m,\u001b[0m \u001b[0;36m99\u001b[0m\u001b[0;34m)\u001b[0m\u001b[0;34m\u001b[0m\u001b[0;34m\u001b[0m\u001b[0m\n\u001b[0m\u001b[1;32m     10\u001b[0m \u001b[0mprint\u001b[0m\u001b[0;34m(\u001b[0m\u001b[0mgradebook\u001b[0m\u001b[0;34m)\u001b[0m\u001b[0;34m\u001b[0m\u001b[0;34m\u001b[0m\u001b[0m\n",
      "\u001b[0;32m<ipython-input-8-2294e9c675fb>\u001b[0m in \u001b[0;36madd_final_grades\u001b[0;34m(student, grade)\u001b[0m\n\u001b[1;32m      2\u001b[0m \u001b[0msection\u001b[0m \u001b[0;34m=\u001b[0m \u001b[0;34m\"Section 1\"\u001b[0m\u001b[0;34m\u001b[0m\u001b[0;34m\u001b[0m\u001b[0m\n\u001b[1;32m      3\u001b[0m \u001b[0;32mdef\u001b[0m \u001b[0madd_final_grades\u001b[0m\u001b[0;34m(\u001b[0m\u001b[0mstudent\u001b[0m\u001b[0;34m,\u001b[0m \u001b[0mgrade\u001b[0m\u001b[0;34m)\u001b[0m\u001b[0;34m:\u001b[0m\u001b[0;34m\u001b[0m\u001b[0;34m\u001b[0m\u001b[0m\n\u001b[0;32m----> 4\u001b[0;31m     \u001b[0mprint\u001b[0m\u001b[0;34m(\u001b[0m\u001b[0;34m\"in add_final_grades %s\"\u001b[0m \u001b[0;34m%\u001b[0m \u001b[0msection\u001b[0m\u001b[0;34m)\u001b[0m\u001b[0;34m\u001b[0m\u001b[0;34m\u001b[0m\u001b[0m\n\u001b[0m\u001b[1;32m      5\u001b[0m     \u001b[0mgradebook\u001b[0m\u001b[0;34m.\u001b[0m\u001b[0mloc\u001b[0m\u001b[0;34m[\u001b[0m\u001b[0mstudent\u001b[0m\u001b[0;34m,\u001b[0m \u001b[0;34m'final_grade'\u001b[0m\u001b[0;34m]\u001b[0m \u001b[0;34m=\u001b[0m \u001b[0mgrade\u001b[0m\u001b[0;34m\u001b[0m\u001b[0;34m\u001b[0m\u001b[0m\n\u001b[1;32m      6\u001b[0m     \u001b[0;32mif\u001b[0m \u001b[0;32mFalse\u001b[0m\u001b[0;34m:\u001b[0m\u001b[0;34m\u001b[0m\u001b[0;34m\u001b[0m\u001b[0m\n",
      "\u001b[0;31mUnboundLocalError\u001b[0m: local variable 'section' referenced before assignment"
     ]
    }
   ],
   "source": [
    "# Let's put our extra credit code in a function!\n",
    "section = \"Section 1\"\n",
    "def add_final_grades(student, grade):\n",
    "    print(\"in add_final_grades %s\" % section)\n",
    "    gradebook.loc[student, 'final_grade'] = grade\n",
    "    if False:\n",
    "        section = \"new\"\n",
    "\n",
    "add_final_grades('Jennifer', 99)\n",
    "print(gradebook)"
   ]
  },
  {
   "cell_type": "code",
   "execution_count": null,
   "metadata": {},
   "outputs": [],
   "source": [
    "def print_message(message):\n",
    "    message_to_print = \"Here is your message: \" + message\n",
    "    print(message_to_print)\n",
    "    \n",
    "my_message = \"Hello, class!\"\n",
    "print_message(my_message)\n",
    "\n",
    "#print(message_to_print) # this will cause an error. This variable only exists within the function."
   ]
  },
  {
   "cell_type": "markdown",
   "metadata": {},
   "source": [
    "If you modify an object (like a list or a dataframe) inside of a function, the modifications will affect its value outside of the function"
   ]
  },
  {
   "cell_type": "code",
   "execution_count": null,
   "metadata": {},
   "outputs": [],
   "source": [
    "def add_name_to_list(name_list, new_name):\n",
    "    name_list.append(new_name)\n",
    "    \n",
    "teachers = [\"Bernease\", \"Dave\", \"Joe\"]\n",
    "print(teachers)\n",
    "add_name_to_list(teachers, \"Colin\")\n",
    "print(teachers)"
   ]
  },
  {
   "cell_type": "markdown",
   "metadata": {},
   "source": [
    "## Exercise: Write a function to determine if a number is prime\n",
    "\n",
    "Below is some code that checks if a number is prime. The code has a bug in it!\n"
   ]
  },
  {
   "cell_type": "code",
   "execution_count": null,
   "metadata": {},
   "outputs": [],
   "source": [
    "\n",
    "# Determine if num is prime\n",
    "# This code has a bug. What is it?\n",
    "# Also, the efficiency of the code can be improved. How?\n",
    "\n",
    "num = 3\n",
    "is_prime = True\n",
    "\n",
    "for integer in range(1, num):\n",
    "    if num % integer == 0: \n",
    "        # The \"==\" operator checks for equality and returns True or False. \n",
    "        # Note the difference between \"==\" and \"=\", which assigns a value to a variable.\n",
    "        #\n",
    "        # The \"%\" operator calculates the remainder of a division operation\n",
    "        # if the remainder is zero, integer is a divisor of num, so num is not prime\n",
    "        print(\"Not prime!\")\n",
    "        is_prime = False\n",
    "\n",
    "if is_prime:\n",
    "    print(\"Is prime!\")\n"
   ]
  },
  {
   "cell_type": "markdown",
   "metadata": {},
   "source": [
    "Once you've identified the bug in the above code, take the code and turn it into a function that takes a number as input and returns True if the number is prime and False if it is not.\n",
    "\n",
    "See if you can find any ways to make the code more efficient."
   ]
  }
 ],
 "metadata": {
  "kernelspec": {
   "display_name": "Python 3",
   "language": "python",
   "name": "python3"
  },
  "language_info": {
   "codemirror_mode": {
    "name": "ipython",
    "version": 3
   },
   "file_extension": ".py",
   "mimetype": "text/x-python",
   "name": "python",
   "nbconvert_exporter": "python",
   "pygments_lexer": "ipython3",
   "version": "3.7.3"
  }
 },
 "nbformat": 4,
 "nbformat_minor": 2
}
